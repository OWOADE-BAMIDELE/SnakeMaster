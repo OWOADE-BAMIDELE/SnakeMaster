{
 "cells": [
  {
   "cell_type": "code",
   "execution_count": 68,
   "metadata": {},
   "outputs": [],
   "source": [
    "import pandas as pd\n",
    "import numpy as np\n",
    "import statsmodels.api as sm\n",
    "import seaborn as sns\n",
    "import matplotlib.pyplot as plt"
   ]
  },
  {
   "cell_type": "code",
   "execution_count": 113,
   "metadata": {},
   "outputs": [],
   "source": [
    "# Import the datset into python\n",
    "df = pd.read_excel(r\"C:\\Users\\ia\\Desktop\\Travail\\Bello Shakiru\\2\\Utilizing Arts To Identify and Overcome Barriers To Community Engagement.xlsx\")"
   ]
  },
  {
   "cell_type": "code",
   "execution_count": 114,
   "metadata": {},
   "outputs": [
    {
     "data": {
      "text/html": [
       "<div>\n",
       "<style scoped>\n",
       "    .dataframe tbody tr th:only-of-type {\n",
       "        vertical-align: middle;\n",
       "    }\n",
       "\n",
       "    .dataframe tbody tr th {\n",
       "        vertical-align: top;\n",
       "    }\n",
       "\n",
       "    .dataframe thead th {\n",
       "        text-align: right;\n",
       "    }\n",
       "</style>\n",
       "<table border=\"1\" class=\"dataframe\">\n",
       "  <thead>\n",
       "    <tr style=\"text-align: right;\">\n",
       "      <th></th>\n",
       "      <th>Age</th>\n",
       "      <th>Gender</th>\n",
       "      <th>Residence</th>\n",
       "      <th>Frequency</th>\n",
       "      <th>Interests</th>\n",
       "      <th>Timing</th>\n",
       "      <th>Participation</th>\n",
       "      <th>Reason</th>\n",
       "      <th>Challenges</th>\n",
       "      <th>Motivation</th>\n",
       "      <th>Suggestions</th>\n",
       "      <th>Interest</th>\n",
       "      <th>Comments</th>\n",
       "      <th>Contact</th>\n",
       "      <th>Email</th>\n",
       "    </tr>\n",
       "  </thead>\n",
       "  <tbody>\n",
       "    <tr>\n",
       "      <th>0</th>\n",
       "      <td>35-39</td>\n",
       "      <td>Male</td>\n",
       "      <td>White/British</td>\n",
       "      <td>Yes</td>\n",
       "      <td>Occasionally</td>\n",
       "      <td>Music;Crafts and DIY Projects;Film and Photogr...</td>\n",
       "      <td>Weekend</td>\n",
       "      <td>No</td>\n",
       "      <td>Lack of awareness about the programs;</td>\n",
       "      <td>Lack of information ;Time constraints ;</td>\n",
       "      <td>Improved communication about events and progra...</td>\n",
       "      <td>No</td>\n",
       "      <td>Yes</td>\n",
       "      <td>No</td>\n",
       "      <td>c01985@yahoo.co.uk</td>\n",
       "    </tr>\n",
       "    <tr>\n",
       "      <th>1</th>\n",
       "      <td>25-29</td>\n",
       "      <td>Female</td>\n",
       "      <td>White/British</td>\n",
       "      <td>Yes</td>\n",
       "      <td>Rarely</td>\n",
       "      <td>Performing Arts (theatre, dance, etc.);</td>\n",
       "      <td>Weekend</td>\n",
       "      <td>No</td>\n",
       "      <td>Lack of awareness about the programs;</td>\n",
       "      <td>Cost of participation ;Lack of information ;</td>\n",
       "      <td>Improved communication about events and progra...</td>\n",
       "      <td>Info on classes for children</td>\n",
       "      <td>No</td>\n",
       "      <td>Na</td>\n",
       "      <td>NaN</td>\n",
       "    </tr>\n",
       "    <tr>\n",
       "      <th>2</th>\n",
       "      <td>25-29</td>\n",
       "      <td>Male</td>\n",
       "      <td>Black/African/Carribbean/Black British</td>\n",
       "      <td>Yes</td>\n",
       "      <td>Occasionally</td>\n",
       "      <td>Literature and Poetry;</td>\n",
       "      <td>Afternoon</td>\n",
       "      <td>No</td>\n",
       "      <td>Conflicting Schedules ;</td>\n",
       "      <td>Cost of participation ;</td>\n",
       "      <td>Opportunities for social interaction and commu...</td>\n",
       "      <td>Pottery</td>\n",
       "      <td>Yes</td>\n",
       "      <td>No</td>\n",
       "      <td>NaN</td>\n",
       "    </tr>\n",
       "    <tr>\n",
       "      <th>3</th>\n",
       "      <td>35-39</td>\n",
       "      <td>Male</td>\n",
       "      <td>White/British</td>\n",
       "      <td>Yes</td>\n",
       "      <td>Occasionally</td>\n",
       "      <td>Film and Photography;Crafts and DIY Projects;V...</td>\n",
       "      <td>Weekend</td>\n",
       "      <td>Yes</td>\n",
       "      <td>Not applicable ;</td>\n",
       "      <td>Time constraints ;</td>\n",
       "      <td>Improved communication about events and progra...</td>\n",
       "      <td>Keep doing what you’re doing.</td>\n",
       "      <td>No</td>\n",
       "      <td>No</td>\n",
       "      <td>NaN</td>\n",
       "    </tr>\n",
       "    <tr>\n",
       "      <th>4</th>\n",
       "      <td>45-49</td>\n",
       "      <td>Female</td>\n",
       "      <td>White/British</td>\n",
       "      <td>Yes</td>\n",
       "      <td>Occasionally</td>\n",
       "      <td>Music;Performing Arts (theatre, dance, etc.);F...</td>\n",
       "      <td>Afternoon</td>\n",
       "      <td>No</td>\n",
       "      <td>Lack of awareness about the programs;</td>\n",
       "      <td>Lack of information ;</td>\n",
       "      <td>Improved communication about events and progra...</td>\n",
       "      <td>Information</td>\n",
       "      <td>Yes</td>\n",
       "      <td>No</td>\n",
       "      <td>NaN</td>\n",
       "    </tr>\n",
       "  </tbody>\n",
       "</table>\n",
       "</div>"
      ],
      "text/plain": [
       "     Age  Gender                               Residence Frequency  \\\n",
       "0  35-39    Male                          White/British        Yes   \n",
       "1  25-29  Female                          White/British        Yes   \n",
       "2  25-29    Male  Black/African/Carribbean/Black British       Yes   \n",
       "3  35-39    Male                          White/British        Yes   \n",
       "4  45-49  Female                          White/British        Yes   \n",
       "\n",
       "       Interests                                             Timing  \\\n",
       "0  Occasionally   Music;Crafts and DIY Projects;Film and Photogr...   \n",
       "1        Rarely             Performing Arts (theatre, dance, etc.);   \n",
       "2  Occasionally                              Literature and Poetry;   \n",
       "3  Occasionally   Film and Photography;Crafts and DIY Projects;V...   \n",
       "4  Occasionally   Music;Performing Arts (theatre, dance, etc.);F...   \n",
       "\n",
       "  Participation Reason                             Challenges  \\\n",
       "0      Weekend      No  Lack of awareness about the programs;   \n",
       "1      Weekend      No  Lack of awareness about the programs;   \n",
       "2    Afternoon      No                Conflicting Schedules ;   \n",
       "3      Weekend     Yes                       Not applicable ;   \n",
       "4    Afternoon      No  Lack of awareness about the programs;   \n",
       "\n",
       "                                     Motivation  \\\n",
       "0       Lack of information ;Time constraints ;   \n",
       "1  Cost of participation ;Lack of information ;   \n",
       "2                       Cost of participation ;   \n",
       "3                            Time constraints ;   \n",
       "4                         Lack of information ;   \n",
       "\n",
       "                                         Suggestions  \\\n",
       "0  Improved communication about events and progra...   \n",
       "1  Improved communication about events and progra...   \n",
       "2  Opportunities for social interaction and commu...   \n",
       "3  Improved communication about events and progra...   \n",
       "4  Improved communication about events and progra...   \n",
       "\n",
       "                         Interest Comments Contact               Email  \n",
       "0                              No      Yes      No  c01985@yahoo.co.uk  \n",
       "1    Info on classes for children       No      Na                 NaN  \n",
       "2                         Pottery      Yes      No                 NaN  \n",
       "3  Keep doing what you’re doing.        No      No                 NaN  \n",
       "4                    Information       Yes      No                 NaN  "
      ]
     },
     "execution_count": 114,
     "metadata": {},
     "output_type": "execute_result"
    }
   ],
   "source": [
    "# View the first five variables\n",
    "df.head()"
   ]
  },
  {
   "cell_type": "code",
   "execution_count": 115,
   "metadata": {},
   "outputs": [
    {
     "data": {
      "text/html": [
       "<div>\n",
       "<style scoped>\n",
       "    .dataframe tbody tr th:only-of-type {\n",
       "        vertical-align: middle;\n",
       "    }\n",
       "\n",
       "    .dataframe tbody tr th {\n",
       "        vertical-align: top;\n",
       "    }\n",
       "\n",
       "    .dataframe thead th {\n",
       "        text-align: right;\n",
       "    }\n",
       "</style>\n",
       "<table border=\"1\" class=\"dataframe\">\n",
       "  <thead>\n",
       "    <tr style=\"text-align: right;\">\n",
       "      <th></th>\n",
       "      <th>Age</th>\n",
       "      <th>Gender</th>\n",
       "      <th>Residence</th>\n",
       "      <th>Frequency</th>\n",
       "      <th>Interests</th>\n",
       "      <th>Timing</th>\n",
       "      <th>Participation</th>\n",
       "      <th>Reason</th>\n",
       "      <th>Challenges</th>\n",
       "      <th>Motivation</th>\n",
       "      <th>Suggestions</th>\n",
       "      <th>Interest</th>\n",
       "      <th>Comments</th>\n",
       "      <th>Contact</th>\n",
       "      <th>Email</th>\n",
       "    </tr>\n",
       "  </thead>\n",
       "  <tbody>\n",
       "    <tr>\n",
       "      <th>73</th>\n",
       "      <td>18-24</td>\n",
       "      <td>Female</td>\n",
       "      <td>White/British</td>\n",
       "      <td>Yes</td>\n",
       "      <td>Occasionally</td>\n",
       "      <td>Visual Arts (painting, sculpture, etc.);Litera...</td>\n",
       "      <td>Afternoon</td>\n",
       "      <td>Yes</td>\n",
       "      <td>Other;</td>\n",
       "      <td>Lack of interest in available activities ;Lack...</td>\n",
       "      <td>More diverse program offerings ;Program tailor...</td>\n",
       "      <td>No</td>\n",
       "      <td>Yes</td>\n",
       "      <td>No</td>\n",
       "      <td>NaN</td>\n",
       "    </tr>\n",
       "    <tr>\n",
       "      <th>74</th>\n",
       "      <td>25-29</td>\n",
       "      <td>Male</td>\n",
       "      <td>White/British</td>\n",
       "      <td>Yes</td>\n",
       "      <td>Occasionally</td>\n",
       "      <td>Visual Arts (painting, sculpture, etc.);</td>\n",
       "      <td>Morning</td>\n",
       "      <td>Yes</td>\n",
       "      <td>Not applicable ;</td>\n",
       "      <td>Lack of interest in available activities ;</td>\n",
       "      <td>Improved communication about events and progra...</td>\n",
       "      <td>Pottery</td>\n",
       "      <td>No</td>\n",
       "      <td>No</td>\n",
       "      <td>NaN</td>\n",
       "    </tr>\n",
       "    <tr>\n",
       "      <th>75</th>\n",
       "      <td>18-24</td>\n",
       "      <td>Female</td>\n",
       "      <td>White/British</td>\n",
       "      <td>Yes</td>\n",
       "      <td>Occasionally</td>\n",
       "      <td>Visual Arts (painting, sculpture, etc.);Litera...</td>\n",
       "      <td>Afternoon</td>\n",
       "      <td>Yes</td>\n",
       "      <td>Other;</td>\n",
       "      <td>Lack of interest in available activities ;Lack...</td>\n",
       "      <td>More diverse program offerings ;Program tailor...</td>\n",
       "      <td>No</td>\n",
       "      <td>Yes</td>\n",
       "      <td>No</td>\n",
       "      <td>NaN</td>\n",
       "    </tr>\n",
       "    <tr>\n",
       "      <th>76</th>\n",
       "      <td>50 and above</td>\n",
       "      <td>Male</td>\n",
       "      <td>Black/African/Carribbean/Black British</td>\n",
       "      <td>Yes</td>\n",
       "      <td>Occasionally</td>\n",
       "      <td>Visual Arts (painting, sculpture, etc.);Perfor...</td>\n",
       "      <td>Morning</td>\n",
       "      <td>No</td>\n",
       "      <td>Lack of awareness about the programs;Conflicti...</td>\n",
       "      <td>Cost of participation ;Time constraints ;</td>\n",
       "      <td>Lower participation fees;Improved communicatio...</td>\n",
       "      <td>introduction of other arts such as painting an...</td>\n",
       "      <td>No</td>\n",
       "      <td>no</td>\n",
       "      <td>NaN</td>\n",
       "    </tr>\n",
       "    <tr>\n",
       "      <th>77</th>\n",
       "      <td>50 and above</td>\n",
       "      <td>Male</td>\n",
       "      <td>Black/African/Carribbean/Black British</td>\n",
       "      <td>Yes</td>\n",
       "      <td>Occasionally</td>\n",
       "      <td>Visual Arts (painting, sculpture, etc.);Perfor...</td>\n",
       "      <td>Morning</td>\n",
       "      <td>No</td>\n",
       "      <td>Lack of awareness about the programs;Conflicti...</td>\n",
       "      <td>Cost of participation ;Time constraints ;</td>\n",
       "      <td>Lower participation fees;Improved communicatio...</td>\n",
       "      <td>introduction of other arts such as painting an...</td>\n",
       "      <td>No</td>\n",
       "      <td>no</td>\n",
       "      <td>NaN</td>\n",
       "    </tr>\n",
       "  </tbody>\n",
       "</table>\n",
       "</div>"
      ],
      "text/plain": [
       "             Age  Gender                               Residence Frequency  \\\n",
       "73         18-24  Female                          White/British        Yes   \n",
       "74         25-29    Male                          White/British        Yes   \n",
       "75         18-24  Female                          White/British        Yes   \n",
       "76  50 and above    Male  Black/African/Carribbean/Black British       Yes   \n",
       "77  50 and above    Male  Black/African/Carribbean/Black British       Yes   \n",
       "\n",
       "        Interests                                             Timing  \\\n",
       "73  Occasionally   Visual Arts (painting, sculpture, etc.);Litera...   \n",
       "74  Occasionally            Visual Arts (painting, sculpture, etc.);   \n",
       "75  Occasionally   Visual Arts (painting, sculpture, etc.);Litera...   \n",
       "76  Occasionally   Visual Arts (painting, sculpture, etc.);Perfor...   \n",
       "77  Occasionally   Visual Arts (painting, sculpture, etc.);Perfor...   \n",
       "\n",
       "   Participation Reason                                         Challenges  \\\n",
       "73    Afternoon     Yes                                             Other;   \n",
       "74      Morning     Yes                                   Not applicable ;   \n",
       "75    Afternoon     Yes                                             Other;   \n",
       "76      Morning      No  Lack of awareness about the programs;Conflicti...   \n",
       "77      Morning      No  Lack of awareness about the programs;Conflicti...   \n",
       "\n",
       "                                           Motivation  \\\n",
       "73  Lack of interest in available activities ;Lack...   \n",
       "74         Lack of interest in available activities ;   \n",
       "75  Lack of interest in available activities ;Lack...   \n",
       "76          Cost of participation ;Time constraints ;   \n",
       "77          Cost of participation ;Time constraints ;   \n",
       "\n",
       "                                          Suggestions  \\\n",
       "73  More diverse program offerings ;Program tailor...   \n",
       "74  Improved communication about events and progra...   \n",
       "75  More diverse program offerings ;Program tailor...   \n",
       "76  Lower participation fees;Improved communicatio...   \n",
       "77  Lower participation fees;Improved communicatio...   \n",
       "\n",
       "                                             Interest Comments Contact Email  \n",
       "73                                                 No      Yes      No   NaN  \n",
       "74                                           Pottery        No      No   NaN  \n",
       "75                                                 No      Yes      No   NaN  \n",
       "76  introduction of other arts such as painting an...       No      no   NaN  \n",
       "77  introduction of other arts such as painting an...       No      no   NaN  "
      ]
     },
     "execution_count": 115,
     "metadata": {},
     "output_type": "execute_result"
    }
   ],
   "source": [
    "df.tail()"
   ]
  },
  {
   "cell_type": "code",
   "execution_count": 72,
   "metadata": {},
   "outputs": [
    {
     "data": {
      "text/plain": [
       "(78, 15)"
      ]
     },
     "execution_count": 72,
     "metadata": {},
     "output_type": "execute_result"
    }
   ],
   "source": [
    "# To show the total number of rows and columns\n",
    "df.shape"
   ]
  },
  {
   "cell_type": "code",
   "execution_count": 73,
   "metadata": {},
   "outputs": [
    {
     "data": {
      "text/plain": [
       "Index(['Age', 'Gender', 'Residence', 'Frequency', 'Interests', 'Timing',\n",
       "       'Participation', 'Reason', 'Challenges', 'Motivation', 'Suggestions',\n",
       "       'Interest', 'Comments', 'Contact', 'Email'],\n",
       "      dtype='object')"
      ]
     },
     "execution_count": 73,
     "metadata": {},
     "output_type": "execute_result"
    }
   ],
   "source": [
    "# To show the number of each coloumn\n",
    "df.columns"
   ]
  },
  {
   "cell_type": "code",
   "execution_count": 74,
   "metadata": {},
   "outputs": [
    {
     "data": {
      "text/plain": [
       "Age              object\n",
       "Gender           object\n",
       "Residence        object\n",
       "Frequency        object\n",
       "Interests        object\n",
       "Timing           object\n",
       "Participation    object\n",
       "Reason           object\n",
       "Challenges       object\n",
       "Motivation       object\n",
       "Suggestions      object\n",
       "Interest         object\n",
       "Comments         object\n",
       "Contact          object\n",
       "Email            object\n",
       "dtype: object"
      ]
     },
     "execution_count": 74,
     "metadata": {},
     "output_type": "execute_result"
    }
   ],
   "source": [
    "# This attribute shows the data types of each column\n",
    "df.dtypes"
   ]
  },
  {
   "cell_type": "code",
   "execution_count": 75,
   "metadata": {},
   "outputs": [
    {
     "data": {
      "text/plain": [
       "Age               7\n",
       "Gender            2\n",
       "Residence         2\n",
       "Frequency         2\n",
       "Interests         5\n",
       "Timing           28\n",
       "Participation     3\n",
       "Reason            2\n",
       "Challenges        9\n",
       "Motivation       17\n",
       "Suggestions      23\n",
       "Interest         16\n",
       "Comments          2\n",
       "Contact           9\n",
       "Email             2\n",
       "dtype: int64"
      ]
     },
     "execution_count": 75,
     "metadata": {},
     "output_type": "execute_result"
    }
   ],
   "source": [
    "# It will show the total no of unque value from whole data frame\n",
    "df.nunique()"
   ]
  },
  {
   "cell_type": "code",
   "execution_count": 76,
   "metadata": {},
   "outputs": [
    {
     "data": {
      "text/html": [
       "<div>\n",
       "<style scoped>\n",
       "    .dataframe tbody tr th:only-of-type {\n",
       "        vertical-align: middle;\n",
       "    }\n",
       "\n",
       "    .dataframe tbody tr th {\n",
       "        vertical-align: top;\n",
       "    }\n",
       "\n",
       "    .dataframe thead th {\n",
       "        text-align: right;\n",
       "    }\n",
       "</style>\n",
       "<table border=\"1\" class=\"dataframe\">\n",
       "  <thead>\n",
       "    <tr style=\"text-align: right;\">\n",
       "      <th></th>\n",
       "      <th>Age</th>\n",
       "      <th>Gender</th>\n",
       "      <th>Residence</th>\n",
       "      <th>Frequency</th>\n",
       "      <th>Interests</th>\n",
       "      <th>Timing</th>\n",
       "      <th>Participation</th>\n",
       "      <th>Reason</th>\n",
       "      <th>Challenges</th>\n",
       "      <th>Motivation</th>\n",
       "      <th>Suggestions</th>\n",
       "      <th>Interest</th>\n",
       "      <th>Comments</th>\n",
       "      <th>Contact</th>\n",
       "      <th>Email</th>\n",
       "    </tr>\n",
       "  </thead>\n",
       "  <tbody>\n",
       "    <tr>\n",
       "      <th>count</th>\n",
       "      <td>78</td>\n",
       "      <td>78</td>\n",
       "      <td>78</td>\n",
       "      <td>78</td>\n",
       "      <td>78</td>\n",
       "      <td>78</td>\n",
       "      <td>78</td>\n",
       "      <td>78</td>\n",
       "      <td>78</td>\n",
       "      <td>78</td>\n",
       "      <td>78</td>\n",
       "      <td>68</td>\n",
       "      <td>78</td>\n",
       "      <td>61</td>\n",
       "      <td>3</td>\n",
       "    </tr>\n",
       "    <tr>\n",
       "      <th>unique</th>\n",
       "      <td>7</td>\n",
       "      <td>2</td>\n",
       "      <td>2</td>\n",
       "      <td>2</td>\n",
       "      <td>5</td>\n",
       "      <td>28</td>\n",
       "      <td>3</td>\n",
       "      <td>2</td>\n",
       "      <td>9</td>\n",
       "      <td>17</td>\n",
       "      <td>23</td>\n",
       "      <td>16</td>\n",
       "      <td>2</td>\n",
       "      <td>9</td>\n",
       "      <td>2</td>\n",
       "    </tr>\n",
       "    <tr>\n",
       "      <th>top</th>\n",
       "      <td>30-34</td>\n",
       "      <td>Male</td>\n",
       "      <td>White/British</td>\n",
       "      <td>Yes</td>\n",
       "      <td>Occasionally</td>\n",
       "      <td>Literature and Poetry;</td>\n",
       "      <td>Weekend</td>\n",
       "      <td>Yes</td>\n",
       "      <td>Not applicable ;</td>\n",
       "      <td>None of the above;</td>\n",
       "      <td>Improved communication about events and progra...</td>\n",
       "      <td>No</td>\n",
       "      <td>Yes</td>\n",
       "      <td>No</td>\n",
       "      <td>c01985@yahoo.co.uk</td>\n",
       "    </tr>\n",
       "    <tr>\n",
       "      <th>freq</th>\n",
       "      <td>22</td>\n",
       "      <td>39</td>\n",
       "      <td>60</td>\n",
       "      <td>71</td>\n",
       "      <td>46</td>\n",
       "      <td>8</td>\n",
       "      <td>36</td>\n",
       "      <td>44</td>\n",
       "      <td>36</td>\n",
       "      <td>13</td>\n",
       "      <td>14</td>\n",
       "      <td>27</td>\n",
       "      <td>40</td>\n",
       "      <td>40</td>\n",
       "      <td>2</td>\n",
       "    </tr>\n",
       "  </tbody>\n",
       "</table>\n",
       "</div>"
      ],
      "text/plain": [
       "          Age Gender       Residence Frequency      Interests  \\\n",
       "count      78     78              78        78             78   \n",
       "unique      7      2               2         2              5   \n",
       "top     30-34   Male  White/British        Yes  Occasionally    \n",
       "freq       22     39              60        71             46   \n",
       "\n",
       "                        Timing Participation Reason        Challenges  \\\n",
       "count                       78            78     78                78   \n",
       "unique                      28             3      2                 9   \n",
       "top     Literature and Poetry;      Weekend     Yes  Not applicable ;   \n",
       "freq                         8            36     44                36   \n",
       "\n",
       "                Motivation                                        Suggestions  \\\n",
       "count                   78                                                 78   \n",
       "unique                  17                                                 23   \n",
       "top     None of the above;  Improved communication about events and progra...   \n",
       "freq                    13                                                 14   \n",
       "\n",
       "       Interest Comments Contact               Email  \n",
       "count        68       78      61                   3  \n",
       "unique       16        2       9                   2  \n",
       "top          No      Yes      No  c01985@yahoo.co.uk  \n",
       "freq         27       40      40                   2  "
      ]
     },
     "execution_count": 76,
     "metadata": {},
     "output_type": "execute_result"
    }
   ],
   "source": [
    "# It show the Count, mean , median etc\n",
    "df.describe()"
   ]
  },
  {
   "cell_type": "code",
   "execution_count": 77,
   "metadata": {},
   "outputs": [
    {
     "data": {
      "text/plain": [
       "Age\n",
       "30-34           22\n",
       "25-29           20\n",
       "35-39           17\n",
       "18-24           10\n",
       "45-49            5\n",
       "40-44            2\n",
       "50 and above     2\n",
       "Name: count, dtype: int64"
      ]
     },
     "execution_count": 77,
     "metadata": {},
     "output_type": "execute_result"
    }
   ],
   "source": [
    "# It Shows all the unique values with their count\n",
    "df[\"Age\"].value_counts()"
   ]
  },
  {
   "cell_type": "code",
   "execution_count": 78,
   "metadata": {},
   "outputs": [
    {
     "data": {
      "text/html": [
       "<div>\n",
       "<style scoped>\n",
       "    .dataframe tbody tr th:only-of-type {\n",
       "        vertical-align: middle;\n",
       "    }\n",
       "\n",
       "    .dataframe tbody tr th {\n",
       "        vertical-align: top;\n",
       "    }\n",
       "\n",
       "    .dataframe thead th {\n",
       "        text-align: right;\n",
       "    }\n",
       "</style>\n",
       "<table border=\"1\" class=\"dataframe\">\n",
       "  <thead>\n",
       "    <tr style=\"text-align: right;\">\n",
       "      <th></th>\n",
       "      <th>Age</th>\n",
       "      <th>Gender</th>\n",
       "      <th>Residence</th>\n",
       "      <th>Frequency</th>\n",
       "      <th>Interests</th>\n",
       "      <th>Timing</th>\n",
       "      <th>Participation</th>\n",
       "      <th>Reason</th>\n",
       "      <th>Challenges</th>\n",
       "      <th>Motivation</th>\n",
       "      <th>Suggestions</th>\n",
       "      <th>Interest</th>\n",
       "      <th>Comments</th>\n",
       "      <th>Contact</th>\n",
       "      <th>Email</th>\n",
       "    </tr>\n",
       "  </thead>\n",
       "  <tbody>\n",
       "    <tr>\n",
       "      <th>0</th>\n",
       "      <td>False</td>\n",
       "      <td>False</td>\n",
       "      <td>False</td>\n",
       "      <td>False</td>\n",
       "      <td>False</td>\n",
       "      <td>False</td>\n",
       "      <td>False</td>\n",
       "      <td>False</td>\n",
       "      <td>False</td>\n",
       "      <td>False</td>\n",
       "      <td>False</td>\n",
       "      <td>False</td>\n",
       "      <td>False</td>\n",
       "      <td>False</td>\n",
       "      <td>False</td>\n",
       "    </tr>\n",
       "    <tr>\n",
       "      <th>1</th>\n",
       "      <td>False</td>\n",
       "      <td>False</td>\n",
       "      <td>False</td>\n",
       "      <td>False</td>\n",
       "      <td>False</td>\n",
       "      <td>False</td>\n",
       "      <td>False</td>\n",
       "      <td>False</td>\n",
       "      <td>False</td>\n",
       "      <td>False</td>\n",
       "      <td>False</td>\n",
       "      <td>False</td>\n",
       "      <td>False</td>\n",
       "      <td>False</td>\n",
       "      <td>True</td>\n",
       "    </tr>\n",
       "    <tr>\n",
       "      <th>2</th>\n",
       "      <td>False</td>\n",
       "      <td>False</td>\n",
       "      <td>False</td>\n",
       "      <td>False</td>\n",
       "      <td>False</td>\n",
       "      <td>False</td>\n",
       "      <td>False</td>\n",
       "      <td>False</td>\n",
       "      <td>False</td>\n",
       "      <td>False</td>\n",
       "      <td>False</td>\n",
       "      <td>False</td>\n",
       "      <td>False</td>\n",
       "      <td>False</td>\n",
       "      <td>True</td>\n",
       "    </tr>\n",
       "    <tr>\n",
       "      <th>3</th>\n",
       "      <td>False</td>\n",
       "      <td>False</td>\n",
       "      <td>False</td>\n",
       "      <td>False</td>\n",
       "      <td>False</td>\n",
       "      <td>False</td>\n",
       "      <td>False</td>\n",
       "      <td>False</td>\n",
       "      <td>False</td>\n",
       "      <td>False</td>\n",
       "      <td>False</td>\n",
       "      <td>False</td>\n",
       "      <td>False</td>\n",
       "      <td>False</td>\n",
       "      <td>True</td>\n",
       "    </tr>\n",
       "    <tr>\n",
       "      <th>4</th>\n",
       "      <td>False</td>\n",
       "      <td>False</td>\n",
       "      <td>False</td>\n",
       "      <td>False</td>\n",
       "      <td>False</td>\n",
       "      <td>False</td>\n",
       "      <td>False</td>\n",
       "      <td>False</td>\n",
       "      <td>False</td>\n",
       "      <td>False</td>\n",
       "      <td>False</td>\n",
       "      <td>False</td>\n",
       "      <td>False</td>\n",
       "      <td>False</td>\n",
       "      <td>True</td>\n",
       "    </tr>\n",
       "    <tr>\n",
       "      <th>...</th>\n",
       "      <td>...</td>\n",
       "      <td>...</td>\n",
       "      <td>...</td>\n",
       "      <td>...</td>\n",
       "      <td>...</td>\n",
       "      <td>...</td>\n",
       "      <td>...</td>\n",
       "      <td>...</td>\n",
       "      <td>...</td>\n",
       "      <td>...</td>\n",
       "      <td>...</td>\n",
       "      <td>...</td>\n",
       "      <td>...</td>\n",
       "      <td>...</td>\n",
       "      <td>...</td>\n",
       "    </tr>\n",
       "    <tr>\n",
       "      <th>73</th>\n",
       "      <td>False</td>\n",
       "      <td>False</td>\n",
       "      <td>False</td>\n",
       "      <td>False</td>\n",
       "      <td>False</td>\n",
       "      <td>False</td>\n",
       "      <td>False</td>\n",
       "      <td>False</td>\n",
       "      <td>False</td>\n",
       "      <td>False</td>\n",
       "      <td>False</td>\n",
       "      <td>False</td>\n",
       "      <td>False</td>\n",
       "      <td>False</td>\n",
       "      <td>True</td>\n",
       "    </tr>\n",
       "    <tr>\n",
       "      <th>74</th>\n",
       "      <td>False</td>\n",
       "      <td>False</td>\n",
       "      <td>False</td>\n",
       "      <td>False</td>\n",
       "      <td>False</td>\n",
       "      <td>False</td>\n",
       "      <td>False</td>\n",
       "      <td>False</td>\n",
       "      <td>False</td>\n",
       "      <td>False</td>\n",
       "      <td>False</td>\n",
       "      <td>False</td>\n",
       "      <td>False</td>\n",
       "      <td>False</td>\n",
       "      <td>True</td>\n",
       "    </tr>\n",
       "    <tr>\n",
       "      <th>75</th>\n",
       "      <td>False</td>\n",
       "      <td>False</td>\n",
       "      <td>False</td>\n",
       "      <td>False</td>\n",
       "      <td>False</td>\n",
       "      <td>False</td>\n",
       "      <td>False</td>\n",
       "      <td>False</td>\n",
       "      <td>False</td>\n",
       "      <td>False</td>\n",
       "      <td>False</td>\n",
       "      <td>False</td>\n",
       "      <td>False</td>\n",
       "      <td>False</td>\n",
       "      <td>True</td>\n",
       "    </tr>\n",
       "    <tr>\n",
       "      <th>76</th>\n",
       "      <td>False</td>\n",
       "      <td>False</td>\n",
       "      <td>False</td>\n",
       "      <td>False</td>\n",
       "      <td>False</td>\n",
       "      <td>False</td>\n",
       "      <td>False</td>\n",
       "      <td>False</td>\n",
       "      <td>False</td>\n",
       "      <td>False</td>\n",
       "      <td>False</td>\n",
       "      <td>False</td>\n",
       "      <td>False</td>\n",
       "      <td>False</td>\n",
       "      <td>True</td>\n",
       "    </tr>\n",
       "    <tr>\n",
       "      <th>77</th>\n",
       "      <td>False</td>\n",
       "      <td>False</td>\n",
       "      <td>False</td>\n",
       "      <td>False</td>\n",
       "      <td>False</td>\n",
       "      <td>False</td>\n",
       "      <td>False</td>\n",
       "      <td>False</td>\n",
       "      <td>False</td>\n",
       "      <td>False</td>\n",
       "      <td>False</td>\n",
       "      <td>False</td>\n",
       "      <td>False</td>\n",
       "      <td>False</td>\n",
       "      <td>True</td>\n",
       "    </tr>\n",
       "  </tbody>\n",
       "</table>\n",
       "<p>78 rows × 15 columns</p>\n",
       "</div>"
      ],
      "text/plain": [
       "      Age  Gender  Residence  Frequency  Interests  Timing  Participation  \\\n",
       "0   False   False      False      False      False   False          False   \n",
       "1   False   False      False      False      False   False          False   \n",
       "2   False   False      False      False      False   False          False   \n",
       "3   False   False      False      False      False   False          False   \n",
       "4   False   False      False      False      False   False          False   \n",
       "..    ...     ...        ...        ...        ...     ...            ...   \n",
       "73  False   False      False      False      False   False          False   \n",
       "74  False   False      False      False      False   False          False   \n",
       "75  False   False      False      False      False   False          False   \n",
       "76  False   False      False      False      False   False          False   \n",
       "77  False   False      False      False      False   False          False   \n",
       "\n",
       "    Reason  Challenges  Motivation  Suggestions  Interest  Comments  Contact  \\\n",
       "0    False       False       False        False     False     False    False   \n",
       "1    False       False       False        False     False     False    False   \n",
       "2    False       False       False        False     False     False    False   \n",
       "3    False       False       False        False     False     False    False   \n",
       "4    False       False       False        False     False     False    False   \n",
       "..     ...         ...         ...          ...       ...       ...      ...   \n",
       "73   False       False       False        False     False     False    False   \n",
       "74   False       False       False        False     False     False    False   \n",
       "75   False       False       False        False     False     False    False   \n",
       "76   False       False       False        False     False     False    False   \n",
       "77   False       False       False        False     False     False    False   \n",
       "\n",
       "    Email  \n",
       "0   False  \n",
       "1    True  \n",
       "2    True  \n",
       "3    True  \n",
       "4    True  \n",
       "..    ...  \n",
       "73   True  \n",
       "74   True  \n",
       "75   True  \n",
       "76   True  \n",
       "77   True  \n",
       "\n",
       "[78 rows x 15 columns]"
      ]
     },
     "execution_count": 78,
     "metadata": {},
     "output_type": "execute_result"
    }
   ],
   "source": [
    "# It shows the how many null values\n",
    "df.isnull()"
   ]
  },
  {
   "cell_type": "code",
   "execution_count": 79,
   "metadata": {},
   "outputs": [
    {
     "name": "stdout",
     "output_type": "stream",
     "text": [
      "<class 'pandas.core.frame.DataFrame'>\n",
      "RangeIndex: 78 entries, 0 to 77\n",
      "Data columns (total 15 columns):\n",
      " #   Column         Non-Null Count  Dtype \n",
      "---  ------         --------------  ----- \n",
      " 0   Age            78 non-null     object\n",
      " 1   Gender         78 non-null     object\n",
      " 2   Residence      78 non-null     object\n",
      " 3   Frequency      78 non-null     object\n",
      " 4   Interests      78 non-null     object\n",
      " 5   Timing         78 non-null     object\n",
      " 6   Participation  78 non-null     object\n",
      " 7   Reason         78 non-null     object\n",
      " 8   Challenges     78 non-null     object\n",
      " 9   Motivation     78 non-null     object\n",
      " 10  Suggestions    78 non-null     object\n",
      " 11  Interest       68 non-null     object\n",
      " 12  Comments       78 non-null     object\n",
      " 13  Contact        61 non-null     object\n",
      " 14  Email          3 non-null      object\n",
      "dtypes: object(15)\n",
      "memory usage: 9.3+ KB\n"
     ]
    }
   ],
   "source": [
    "# To Show Data type of each colum\n",
    "df.info()"
   ]
  },
  {
   "cell_type": "code",
   "execution_count": 80,
   "metadata": {},
   "outputs": [
    {
     "data": {
      "text/plain": [
       "Age\n",
       "30-34           28.205128\n",
       "25-29           25.641026\n",
       "35-39           21.794872\n",
       "18-24           12.820513\n",
       "45-49            6.410256\n",
       "40-44            2.564103\n",
       "50 and above     2.564103\n",
       "Name: proportion, dtype: float64"
      ]
     },
     "execution_count": 80,
     "metadata": {},
     "output_type": "execute_result"
    }
   ],
   "source": [
    "age_percentages = df[\"Age\"].value_counts(normalize=True) * 100  \n",
    "age_percentages"
   ]
  },
  {
   "cell_type": "code",
   "execution_count": 81,
   "metadata": {},
   "outputs": [
    {
     "data": {
      "text/plain": [
       "Age\n",
       "30-34           0.282051\n",
       "25-29           0.256410\n",
       "35-39           0.217949\n",
       "18-24           0.128205\n",
       "45-49           0.064103\n",
       "40-44           0.025641\n",
       "50 and above    0.025641\n",
       "Name: proportion, dtype: float64"
      ]
     },
     "execution_count": 81,
     "metadata": {},
     "output_type": "execute_result"
    }
   ],
   "source": [
    "# Calculate frequency and percentage of unique Age values  \n",
    "df[\"Age\"].value_counts()  \n",
    "df[\"Age\"].value_counts(normalize=True)"
   ]
  },
  {
   "cell_type": "code",
   "execution_count": 82,
   "metadata": {},
   "outputs": [
    {
     "data": {
      "text/plain": [
       "count        78\n",
       "unique        7\n",
       "top       30-34\n",
       "freq         22\n",
       "Name: Age, dtype: object"
      ]
     },
     "execution_count": 82,
     "metadata": {},
     "output_type": "execute_result"
    }
   ],
   "source": [
    "df[\"Age\"].describe()"
   ]
  },
  {
   "cell_type": "code",
   "execution_count": 83,
   "metadata": {},
   "outputs": [],
   "source": [
    "%matplotlib inline"
   ]
  },
  {
   "cell_type": "code",
   "execution_count": 96,
   "metadata": {},
   "outputs": [
    {
     "data": {
      "text/plain": [
       "<Axes: xlabel='Age'>"
      ]
     },
     "execution_count": 96,
     "metadata": {},
     "output_type": "execute_result"
    },
    {
     "data": {
      "image/png": "[encoded data removed]",
      "text/plain": [
       "<Figure size 1000x500 with 1 Axes>"
      ]
     },
     "metadata": {},
     "output_type": "display_data"
    }
   ],
   "source": [
    "df[\"Age\"].value_counts().plot(kind='bar', figsize= (10, 5), color ='red')"
   ]
  },
  {
   "cell_type": "code",
   "execution_count": null,
   "metadata": {},
   "outputs": [
    {
     "data": {
      "text/plain": [
       "Timing\n",
       "False    0.564103\n",
       "True     0.435897\n",
       "Name: proportion, dtype: float64"
      ]
     },
     "execution_count": 40,
     "metadata": {},
     "output_type": "execute_result"
    }
   ],
   "source": [
    "pybool = df['Timing'].str.contains('Music')\n",
    "pybool.value_counts()\n",
    "pybool.value_counts(normalize=True)"
   ]
  },
  {
   "cell_type": "code",
   "execution_count": null,
   "metadata": {},
   "outputs": [
    {
     "data": {
      "text/html": [
       "<div>\n",
       "<style scoped>\n",
       "    .dataframe tbody tr th:only-of-type {\n",
       "        vertical-align: middle;\n",
       "    }\n",
       "\n",
       "    .dataframe tbody tr th {\n",
       "        vertical-align: top;\n",
       "    }\n",
       "\n",
       "    .dataframe thead th {\n",
       "        text-align: right;\n",
       "    }\n",
       "</style>\n",
       "<table border=\"1\" class=\"dataframe\">\n",
       "  <thead>\n",
       "    <tr style=\"text-align: right;\">\n",
       "      <th></th>\n",
       "      <th>0</th>\n",
       "      <th>1</th>\n",
       "      <th>2</th>\n",
       "      <th>3</th>\n",
       "      <th>4</th>\n",
       "      <th>5</th>\n",
       "      <th>6</th>\n",
       "    </tr>\n",
       "  </thead>\n",
       "  <tbody>\n",
       "    <tr>\n",
       "      <th>0</th>\n",
       "      <td>Music</td>\n",
       "      <td>Crafts and DIY Projects</td>\n",
       "      <td>Film and Photography</td>\n",
       "      <td>Visual Arts (painting, sculpture, etc.)</td>\n",
       "      <td></td>\n",
       "      <td>None</td>\n",
       "      <td>None</td>\n",
       "    </tr>\n",
       "    <tr>\n",
       "      <th>1</th>\n",
       "      <td>Performing Arts (theatre, dance, etc.)</td>\n",
       "      <td></td>\n",
       "      <td>None</td>\n",
       "      <td>None</td>\n",
       "      <td>None</td>\n",
       "      <td>None</td>\n",
       "      <td>None</td>\n",
       "    </tr>\n",
       "    <tr>\n",
       "      <th>2</th>\n",
       "      <td>Literature and Poetry</td>\n",
       "      <td></td>\n",
       "      <td>None</td>\n",
       "      <td>None</td>\n",
       "      <td>None</td>\n",
       "      <td>None</td>\n",
       "      <td>None</td>\n",
       "    </tr>\n",
       "    <tr>\n",
       "      <th>3</th>\n",
       "      <td>Film and Photography</td>\n",
       "      <td>Crafts and DIY Projects</td>\n",
       "      <td>Visual Arts (painting, sculpture, etc.)</td>\n",
       "      <td>Performing Arts (theatre, dance, etc.)</td>\n",
       "      <td>Music</td>\n",
       "      <td></td>\n",
       "      <td>None</td>\n",
       "    </tr>\n",
       "    <tr>\n",
       "      <th>4</th>\n",
       "      <td>Music</td>\n",
       "      <td>Performing Arts (theatre, dance, etc.)</td>\n",
       "      <td>Film and Photography</td>\n",
       "      <td></td>\n",
       "      <td>None</td>\n",
       "      <td>None</td>\n",
       "      <td>None</td>\n",
       "    </tr>\n",
       "  </tbody>\n",
       "</table>\n",
       "</div>"
      ],
      "text/plain": [
       "                                        0  \\\n",
       "0                                   Music   \n",
       "1  Performing Arts (theatre, dance, etc.)   \n",
       "2                   Literature and Poetry   \n",
       "3                    Film and Photography   \n",
       "4                                   Music   \n",
       "\n",
       "                                        1  \\\n",
       "0                 Crafts and DIY Projects   \n",
       "1                                           \n",
       "2                                           \n",
       "3                 Crafts and DIY Projects   \n",
       "4  Performing Arts (theatre, dance, etc.)   \n",
       "\n",
       "                                         2  \\\n",
       "0                     Film and Photography   \n",
       "1                                     None   \n",
       "2                                     None   \n",
       "3  Visual Arts (painting, sculpture, etc.)   \n",
       "4                     Film and Photography   \n",
       "\n",
       "                                         3      4     5     6  \n",
       "0  Visual Arts (painting, sculpture, etc.)         None  None  \n",
       "1                                     None   None  None  None  \n",
       "2                                     None   None  None  None  \n",
       "3   Performing Arts (theatre, dance, etc.)  Music        None  \n",
       "4                                            None  None  None  "
      ]
     },
     "execution_count": 42,
     "metadata": {},
     "output_type": "execute_result"
    }
   ],
   "source": [
    "Time = df['Timing'].str.split(';', expand=True)\n",
    "Time.head()"
   ]
  },
  {
   "cell_type": "code",
   "execution_count": null,
   "metadata": {},
   "outputs": [
    {
     "data": {
      "text/plain": [
       "                                           78\n",
       "Visual Arts (painting, sculpture, etc.)    47\n",
       "Literature and Poetry                      37\n",
       "Crafts and DIY Projects                    35\n",
       "Music                                      34\n",
       "Film and Photography                       24\n",
       "Performing Arts (theatre, dance, etc.)     24\n",
       "Name: count, dtype: int64"
      ]
     },
     "execution_count": 43,
     "metadata": {},
     "output_type": "execute_result"
    }
   ],
   "source": [
    "Time.stack().value_counts()"
   ]
  },
  {
   "cell_type": "code",
   "execution_count": null,
   "metadata": {},
   "outputs": [
    {
     "data": {
      "text/plain": [
       "<Axes: >"
      ]
     },
     "execution_count": 46,
     "metadata": {},
     "output_type": "execute_result"
    },
    {
     "data": {
      "image/png": "[encoded data removed]",
      "text/plain": [
       "<Figure size 1000x500 with 1 Axes>"
      ]
     },
     "metadata": {},
     "output_type": "display_data"
    }
   ],
   "source": [
    "Time.stack().value_counts().plot(kind='bar', figsize= (10, 5), color ='green')"
   ]
  },
  {
   "cell_type": "code",
   "execution_count": null,
   "metadata": {},
   "outputs": [
    {
     "name": "stdout",
     "output_type": "stream",
     "text": [
      "        Count  Percentage\n",
      "Gender                   \n",
      "1          39         0.5\n",
      "0          39         0.5\n"
     ]
    }
   ],
   "source": [
    "print(pd.concat([df[\"Gender\"].value_counts(), df[\"Gender\"].value_counts(normalize=True)], axis=1, keys=['Count', 'Percentage']))"
   ]
  },
  {
   "cell_type": "code",
   "execution_count": null,
   "metadata": {},
   "outputs": [
    {
     "name": "stdout",
     "output_type": "stream",
     "text": [
      "count    78.000000\n",
      "mean      0.500000\n",
      "std       0.503236\n",
      "min       0.000000\n",
      "25%       0.000000\n",
      "50%       0.500000\n",
      "75%       1.000000\n",
      "max       1.000000\n",
      "Name: Gender, dtype: float64\n"
     ]
    }
   ],
   "source": [
    "# Convert gender to numeric using mapping\n",
    "gender_map = {'Male': 1, 'Female': 0}\n",
    "df['Gender'] = df['Gender'].map(gender_map)\n",
    "\n",
    "# Descriptive statistics\n",
    "print(df['Gender'].describe())"
   ]
  },
  {
   "cell_type": "code",
   "execution_count": null,
   "metadata": {},
   "outputs": [
    {
     "name": "stdout",
     "output_type": "stream",
     "text": [
      "              Count  Percentage\n",
      "Age                            \n",
      "30-34            22    0.282051\n",
      "25-29            20    0.256410\n",
      "35-39            17    0.217949\n",
      "18-24            10    0.128205\n",
      "45-49             5    0.064103\n",
      "40-44             2    0.025641\n",
      "50 and above      2    0.025641\n"
     ]
    }
   ],
   "source": [
    "print(pd.concat([df[\"Age\"].value_counts(), df[\"Age\"].value_counts(normalize=True)], axis=1, keys=['Count', 'Percentage']))  "
   ]
  },
  {
   "cell_type": "code",
   "execution_count": null,
   "metadata": {},
   "outputs": [
    {
     "name": "stdout",
     "output_type": "stream",
     "text": [
      "count    78.000000\n",
      "mean      3.051282\n",
      "std       1.449563\n",
      "min       1.000000\n",
      "25%       2.000000\n",
      "50%       3.000000\n",
      "75%       4.000000\n",
      "max       7.000000\n",
      "Name: Age, dtype: float64\n"
     ]
    }
   ],
   "source": [
    "# Convert Age to numeric using mapping\n",
    "age_map = {'18-24': 1, '25-29': 2, '30-34': 3, '35-39': 4, '40-44': 5, '45-49': 6, '50 and above': 7}\n",
    "df['Age'] = df['Age'].map(age_map)\n",
    "\n",
    "# Descriptive statistics\n",
    "print(df['Age'].describe())"
   ]
  },
  {
   "cell_type": "code",
   "execution_count": null,
   "metadata": {},
   "outputs": [
    {
     "name": "stdout",
     "output_type": "stream",
     "text": [
      "                                        Count  Percentage\n",
      "Residence                                                \n",
      "White/British                              60    0.769231\n",
      "Black/African/Carribbean/Black British     18    0.230769\n"
     ]
    }
   ],
   "source": [
    "print(pd.concat([df[\"Residence\"].value_counts(), df[\"Residence\"].value_counts(normalize=True)], axis=1, keys=['Count', 'Percentage']))  "
   ]
  },
  {
   "cell_type": "code",
   "execution_count": null,
   "metadata": {},
   "outputs": [
    {
     "name": "stdout",
     "output_type": "stream",
     "text": [
      "count    0.0\n",
      "mean     NaN\n",
      "std      NaN\n",
      "min      NaN\n",
      "25%      NaN\n",
      "50%      NaN\n",
      "75%      NaN\n",
      "max      NaN\n",
      "Name: Residence, dtype: float64\n"
     ]
    }
   ],
   "source": [
    "# Convert Residence to numeric using mapping\n",
    "Residence_map = {'White/British': 1, 'Black/African/Carribbean/Black British': 2, 'Mixed/Multiple ethnic groups': 3, 'Others': 4} \n",
    "df['Residence'] = df['Residence'].map(Residence_map)\n",
    "\n",
    "# Descriptive statistics\n",
    "print(df['Residence'].describe())"
   ]
  },
  {
   "cell_type": "code",
   "execution_count": null,
   "metadata": {},
   "outputs": [
    {
     "name": "stdout",
     "output_type": "stream",
     "text": [
      "           Count  Percentage\n",
      "Frequency                   \n",
      "Yes           71    0.910256\n",
      "No             7    0.089744\n"
     ]
    }
   ],
   "source": [
    "print(pd.concat([df[\"Frequency\"].value_counts(), df[\"Frequency\"].value_counts(normalize=True)], axis=1, keys=['Count', 'Percentage']))  "
   ]
  },
  {
   "cell_type": "code",
   "execution_count": null,
   "metadata": {},
   "outputs": [
    {
     "name": "stdout",
     "output_type": "stream",
     "text": [
      "count    78.000000\n",
      "mean      1.089744\n",
      "std       0.287664\n",
      "min       1.000000\n",
      "25%       1.000000\n",
      "50%       1.000000\n",
      "75%       1.000000\n",
      "max       2.000000\n",
      "Name: Frequency, dtype: float64\n"
     ]
    }
   ],
   "source": [
    "# Convert Frequency to numeric using mapping\n",
    "Frequency_map = {'Yes': 1, 'No': 2} \n",
    "df['Frequency'] = df['Frequency'].map(Frequency_map)\n",
    "\n",
    "# Descriptive statistics\n",
    "print(df['Frequency'].describe())"
   ]
  },
  {
   "cell_type": "code",
   "execution_count": 85,
   "metadata": {},
   "outputs": [
    {
     "name": "stdout",
     "output_type": "stream",
     "text": [
      "               Count  Percentage\n",
      "Interests                       \n",
      "Occasionally      46    0.589744\n",
      "Frequently        17    0.217949\n",
      "Rarely             9    0.115385\n",
      "Never              3    0.038462\n",
      "Always             3    0.038462\n"
     ]
    }
   ],
   "source": [
    "print(pd.concat([df[\"Interests\"].value_counts(), df[\"Interests\"].value_counts(normalize=True)], axis=1, keys=['Count', 'Percentage']))  "
   ]
  },
  {
   "cell_type": "code",
   "execution_count": 89,
   "metadata": {},
   "outputs": [
    {
     "name": "stdout",
     "output_type": "stream",
     "text": [
      "count    0.0\n",
      "mean     NaN\n",
      "std      NaN\n",
      "min      NaN\n",
      "25%      NaN\n",
      "50%      NaN\n",
      "75%      NaN\n",
      "max      NaN\n",
      "Name: Interests, dtype: float64\n"
     ]
    }
   ],
   "source": [
    "# Convert Interests to numeric using mapping\n",
    "Interests_map = {'Never': 1, 'Rarely': 2, 'Occasionally': 3, 'Frequently': 4, 'Always': 5} \n",
    "df['Interests'] = df['Interests'].map(Interests_map)\n",
    "\n",
    "# Descriptive statistics\n",
    "print(df['Interests'].describe())"
   ]
  },
  {
   "cell_type": "code",
   "execution_count": 90,
   "metadata": {},
   "outputs": [
    {
     "name": "stdout",
     "output_type": "stream",
     "text": [
      "               Count  Percentage\n",
      "Participation                   \n",
      "Weekend           36    0.461538\n",
      "Afternoon         26    0.333333\n",
      "Morning           16    0.205128\n"
     ]
    }
   ],
   "source": [
    "print(pd.concat([df[\"Participation\"].value_counts(), df[\"Participation\"].value_counts(normalize=True)], axis=1, keys=['Count', 'Percentage']))  "
   ]
  },
  {
   "cell_type": "code",
   "execution_count": 91,
   "metadata": {},
   "outputs": [
    {
     "name": "stdout",
     "output_type": "stream",
     "text": [
      "count    0.0\n",
      "mean     NaN\n",
      "std      NaN\n",
      "min      NaN\n",
      "25%      NaN\n",
      "50%      NaN\n",
      "75%      NaN\n",
      "max      NaN\n",
      "Name: Participation, dtype: float64\n"
     ]
    }
   ],
   "source": [
    "# Convert Participation to numeric using mapping\n",
    "Participation_map = {'Morning': 1, 'Afternoon': 2, 'Evening': 3, 'Weekend': 4} \n",
    "df['Participation'] = df['Participation'].map(Participation_map)\n",
    "\n",
    "# Descriptive statistics\n",
    "print(df['Participation'].describe())"
   ]
  },
  {
   "cell_type": "code",
   "execution_count": 92,
   "metadata": {},
   "outputs": [
    {
     "name": "stdout",
     "output_type": "stream",
     "text": [
      "        Count  Percentage\n",
      "Reason                   \n",
      "Yes        44    0.564103\n",
      "No         34    0.435897\n"
     ]
    }
   ],
   "source": [
    "print(pd.concat([df[\"Reason\"].value_counts(), df[\"Reason\"].value_counts(normalize=True)], axis=1, keys=['Count', 'Percentage']))  "
   ]
  },
  {
   "cell_type": "code",
   "execution_count": 93,
   "metadata": {},
   "outputs": [
    {
     "name": "stdout",
     "output_type": "stream",
     "text": [
      "count    78.000000\n",
      "mean      1.435897\n",
      "std       0.499083\n",
      "min       1.000000\n",
      "25%       1.000000\n",
      "50%       1.000000\n",
      "75%       2.000000\n",
      "max       2.000000\n",
      "Name: Reason, dtype: float64\n"
     ]
    }
   ],
   "source": [
    "# Convert Reason to numeric using mapping\n",
    "Reason_map = {'Yes': 1, 'No': 2} \n",
    "df['Reason'] = df['Reason'].map(Reason_map)\n",
    "\n",
    "# Descriptive statistics\n",
    "print(df['Reason'].describe())"
   ]
  },
  {
   "cell_type": "code",
   "execution_count": 95,
   "metadata": {},
   "outputs": [
    {
     "name": "stdout",
     "output_type": "stream",
     "text": [
      "count    0.0\n",
      "mean     NaN\n",
      "std      NaN\n",
      "min      NaN\n",
      "25%      NaN\n",
      "50%      NaN\n",
      "75%      NaN\n",
      "max      NaN\n",
      "Name: Challenges, dtype: float64\n"
     ]
    }
   ],
   "source": [
    "# Convert Challenges to numeric using mapping\n",
    "Challenges_map = {'Lack of awareness about the programs': 1, 'Financial Constraints': 2, 'Lack of interest in the offered programs': 3, 'Programs are not culturally relevant': 4, 'Language barriers': 5, 'Conflicting Schedules': 6, 'Social isolation or lack of company': 7, 'Accessibility issues (e.g., location, transportation)': 8, 'Other': 9, 'Not applicable': 10} \n",
    "df['Challenges'] = df['Challenges'].map(Challenges_map)\n",
    "\n",
    "# Descriptive statistics\n",
    "print(df['Challenges'].describe())"
   ]
  },
  {
   "cell_type": "code",
   "execution_count": 107,
   "metadata": {},
   "outputs": [
    {
     "name": "stdout",
     "output_type": "stream",
     "text": [
      "Empty DataFrame\n",
      "Columns: [Count, Percentage]\n",
      "Index: []\n"
     ]
    }
   ],
   "source": [
    "print(pd.concat([df[\"Challenges\"].value_counts(), df[\"Challenges\"].value_counts(normalize=True)], axis=1, keys=['Count', 'Percentage']))  "
   ]
  },
  {
   "cell_type": "code",
   "execution_count": 105,
   "metadata": {},
   "outputs": [
    {
     "data": {
      "text/html": [
       "<div>\n",
       "<style scoped>\n",
       "    .dataframe tbody tr th:only-of-type {\n",
       "        vertical-align: middle;\n",
       "    }\n",
       "\n",
       "    .dataframe tbody tr th {\n",
       "        vertical-align: top;\n",
       "    }\n",
       "\n",
       "    .dataframe thead th {\n",
       "        text-align: right;\n",
       "    }\n",
       "</style>\n",
       "<table border=\"1\" class=\"dataframe\">\n",
       "  <thead>\n",
       "    <tr style=\"text-align: right;\">\n",
       "      <th></th>\n",
       "      <th>0</th>\n",
       "      <th>1</th>\n",
       "      <th>2</th>\n",
       "      <th>3</th>\n",
       "      <th>4</th>\n",
       "      <th>5</th>\n",
       "      <th>6</th>\n",
       "    </tr>\n",
       "  </thead>\n",
       "  <tbody>\n",
       "    <tr>\n",
       "      <th>0</th>\n",
       "      <td>Music</td>\n",
       "      <td>Crafts and DIY Projects</td>\n",
       "      <td>Film and Photography</td>\n",
       "      <td>Visual Arts (painting, sculpture, etc.)</td>\n",
       "      <td></td>\n",
       "      <td>None</td>\n",
       "      <td>None</td>\n",
       "    </tr>\n",
       "    <tr>\n",
       "      <th>1</th>\n",
       "      <td>Performing Arts (theatre, dance, etc.)</td>\n",
       "      <td></td>\n",
       "      <td>None</td>\n",
       "      <td>None</td>\n",
       "      <td>None</td>\n",
       "      <td>None</td>\n",
       "      <td>None</td>\n",
       "    </tr>\n",
       "    <tr>\n",
       "      <th>2</th>\n",
       "      <td>Literature and Poetry</td>\n",
       "      <td></td>\n",
       "      <td>None</td>\n",
       "      <td>None</td>\n",
       "      <td>None</td>\n",
       "      <td>None</td>\n",
       "      <td>None</td>\n",
       "    </tr>\n",
       "    <tr>\n",
       "      <th>3</th>\n",
       "      <td>Film and Photography</td>\n",
       "      <td>Crafts and DIY Projects</td>\n",
       "      <td>Visual Arts (painting, sculpture, etc.)</td>\n",
       "      <td>Performing Arts (theatre, dance, etc.)</td>\n",
       "      <td>Music</td>\n",
       "      <td></td>\n",
       "      <td>None</td>\n",
       "    </tr>\n",
       "    <tr>\n",
       "      <th>4</th>\n",
       "      <td>Music</td>\n",
       "      <td>Performing Arts (theatre, dance, etc.)</td>\n",
       "      <td>Film and Photography</td>\n",
       "      <td></td>\n",
       "      <td>None</td>\n",
       "      <td>None</td>\n",
       "      <td>None</td>\n",
       "    </tr>\n",
       "  </tbody>\n",
       "</table>\n",
       "</div>"
      ],
      "text/plain": [
       "                                        0  \\\n",
       "0                                   Music   \n",
       "1  Performing Arts (theatre, dance, etc.)   \n",
       "2                   Literature and Poetry   \n",
       "3                    Film and Photography   \n",
       "4                                   Music   \n",
       "\n",
       "                                        1  \\\n",
       "0                 Crafts and DIY Projects   \n",
       "1                                           \n",
       "2                                           \n",
       "3                 Crafts and DIY Projects   \n",
       "4  Performing Arts (theatre, dance, etc.)   \n",
       "\n",
       "                                         2  \\\n",
       "0                     Film and Photography   \n",
       "1                                     None   \n",
       "2                                     None   \n",
       "3  Visual Arts (painting, sculpture, etc.)   \n",
       "4                     Film and Photography   \n",
       "\n",
       "                                         3      4     5     6  \n",
       "0  Visual Arts (painting, sculpture, etc.)         None  None  \n",
       "1                                     None   None  None  None  \n",
       "2                                     None   None  None  None  \n",
       "3   Performing Arts (theatre, dance, etc.)  Music        None  \n",
       "4                                            None  None  None  "
      ]
     },
     "execution_count": 105,
     "metadata": {},
     "output_type": "execute_result"
    }
   ],
   "source": [
    "Time = df['Timing'].str.split(';', expand=True)\n",
    "Time.head()"
   ]
  },
  {
   "cell_type": "code",
   "execution_count": 108,
   "metadata": {},
   "outputs": [
    {
     "data": {
      "text/plain": [
       "<Axes: >"
      ]
     },
     "execution_count": 108,
     "metadata": {},
     "output_type": "execute_result"
    },
    {
     "data": {
      "image/png": "[encoded data removed]",
      "text/plain": [
       "<Figure size 1000x500 with 1 Axes>"
      ]
     },
     "metadata": {},
     "output_type": "display_data"
    }
   ],
   "source": [
    "Time.stack().value_counts().plot(kind='bar', figsize= (10, 5), color ='blue')"
   ]
  },
  {
   "cell_type": "code",
   "execution_count": 97,
   "metadata": {},
   "outputs": [
    {
     "name": "stdout",
     "output_type": "stream",
     "text": [
      "                                                    Count  Percentage\n",
      "Motivation                                                           \n",
      "None of the above;                                     13    0.166667\n",
      "Lack of information ;                                  11    0.141026\n",
      "Lack of information ;Time constraints ;                 9    0.115385\n",
      "Time constraints ;                                      9    0.115385\n",
      "Cost of participation ;Time constraints ;               5    0.064103\n",
      "Lack of interest in available activities ;              5    0.064103\n",
      "Distance to venue ;                                     5    0.064103\n",
      "Cost of participation ;                                 4    0.051282\n",
      "Cost of participation ;Distance to venue ;Lack ...      3    0.038462\n",
      "Lack of interest in available activities ;Lack ...      3    0.038462\n",
      "Cost of participation ;Lack of information ;            2    0.025641\n",
      "Lack of information ;Lack of interest in availa...      2    0.025641\n",
      "Lack of interest in available activities ;Time ...      2    0.025641\n",
      "Lack of transportation ;Lack of information ;Ti...      2    0.025641\n",
      "Cost of participation ;Lack of transportation ;         1    0.012821\n",
      "Cost of participation ;Cultural or language bar...      1    0.012821\n",
      "Time constraints ;Lack of information ;Lack of ...      1    0.012821\n"
     ]
    }
   ],
   "source": [
    "print(pd.concat([df[\"Motivation\"].value_counts(), df[\"Motivation\"].value_counts(normalize=True)], axis=1, keys=['Count', 'Percentage']))  "
   ]
  },
  {
   "cell_type": "code",
   "execution_count": 109,
   "metadata": {},
   "outputs": [
    {
     "name": "stdout",
     "output_type": "stream",
     "text": [
      "                                                    Count  Percentage\n",
      "Suggestions                                                          \n",
      "Improved communication about events and programs ;     14    0.179487\n",
      "More diverse program offerings ;                        7    0.089744\n",
      "Opportunities for social interaction and commun...      7    0.089744\n",
      "Lower participation fees;Improved communication...      5    0.064103\n",
      "More diverse program offerings ;Opportunities f...      5    0.064103\n",
      "More diverse program offerings ;Opportunities f...      4    0.051282\n",
      "More diverse program offerings ;Program tailore...      3    0.038462\n",
      "Improved communication about events and program...      3    0.038462\n",
      "Improved communication about events and program...      3    0.038462\n",
      "Opportunities for social interaction and commun...      3    0.038462\n",
      "Improved communication about events and program...      3    0.038462\n",
      "Flexible scheduling ;More accessible locations ...      2    0.025641\n",
      "More accessible locations ;More diverse program...      2    0.025641\n",
      "More diverse program offerings ;Flexible schedu...      2    0.025641\n",
      "Program tailored to specific cultural backgroun...      2    0.025641\n",
      "More diverse program offerings ;Program tailore...      2    0.025641\n",
      "More diverse program offerings ;More accessible...      2    0.025641\n",
      "Lower participation fees;Flexible scheduling ;          2    0.025641\n",
      "Flexible scheduling ;                                   2    0.025641\n",
      "Improved communication about events and program...      2    0.025641\n",
      "Lower participation fees;More accessible locati...      1    0.012821\n",
      "More diverse program offerings ;Improved commun...      1    0.012821\n",
      "Program tailored to specific cultural backgroun...      1    0.012821\n"
     ]
    }
   ],
   "source": [
    "print(pd.concat([df[\"Suggestions\"].value_counts(), df[\"Suggestions\"].value_counts(normalize=True)], axis=1, keys=['Count', 'Percentage']))  "
   ]
  },
  {
   "cell_type": "code",
   "execution_count": 110,
   "metadata": {},
   "outputs": [
    {
     "name": "stdout",
     "output_type": "stream",
     "text": [
      "                                                    Count  Percentage\n",
      "Interest                                                             \n",
      "No                                                     27    0.397059\n",
      "Pottery                                                 6    0.088235\n",
      "introduction of other arts such as painting and...      5    0.073529\n",
      "Pottery                                                 4    0.058824\n",
      "Keep doing what you’re doing.                           3    0.044118\n",
      "Increased awareness in local community on junct...      3    0.044118\n",
      "Pottery as selected                                     3    0.044118\n",
      "No opinion                                              3    0.044118\n",
      "Info on classes for children                            2    0.029412\n",
      "Information                                             2    0.029412\n",
      "Pottery sounds good                                     2    0.029412\n",
      "Sculpture                                               2    0.029412\n",
      "Pottery and sculpture                                   2    0.029412\n",
      "More DIY and art related                                2    0.029412\n",
      "Teaming up with already organised events would ...      1    0.014706\n",
      "portery and nail painting                               1    0.014706\n"
     ]
    }
   ],
   "source": [
    "print(pd.concat([df[\"Interest\"].value_counts(), df[\"Interest\"].value_counts(normalize=True)], axis=1, keys=['Count', 'Percentage']))  "
   ]
  },
  {
   "cell_type": "code",
   "execution_count": 112,
   "metadata": {},
   "outputs": [
    {
     "name": "stdout",
     "output_type": "stream",
     "text": [
      "          Count  Percentage\n",
      "Comments                   \n",
      "Yes          40    0.512821\n",
      "No           38    0.487179\n"
     ]
    }
   ],
   "source": [
    "print(pd.concat([df[\"Comments\"].value_counts(), df[\"Comments\"].value_counts(normalize=True)], axis=1, keys=['Count', 'Percentage']))  "
   ]
  },
  {
   "cell_type": "code",
   "execution_count": 116,
   "metadata": {},
   "outputs": [
    {
     "name": "stdout",
     "output_type": "stream",
     "text": [
      "                                                    Count  Percentage\n",
      "Contact                                                              \n",
      "No                                                     40    0.655738\n",
      "no                                                      6    0.098361\n",
      "Thought the childrens festival in queens park w...      3    0.049180\n",
      "-                                                       3    0.049180\n",
      "Na                                                      2    0.032787\n",
      "Really good initiative!                                 2    0.032787\n",
      "No                                                      2    0.032787\n",
      "Nil                                                     2    0.032787\n",
      "I really think you'd have more engagement if yo...      1    0.016393\n"
     ]
    }
   ],
   "source": [
    "print(pd.concat([df[\"Contact\"].value_counts(), df[\"Contact\"].value_counts(normalize=True)], axis=1, keys=['Count', 'Percentage']))  "
   ]
  },
  {
   "cell_type": "code",
   "execution_count": 117,
   "metadata": {},
   "outputs": [],
   "source": [
    "from scipy.stats import chi2_contingency  "
   ]
  },
  {
   "cell_type": "code",
   "execution_count": 118,
   "metadata": {},
   "outputs": [],
   "source": [
    "# Create a Pandas DataFrame from the data in the table  \n",
    "data = {'Challenges': ['Cost of participation', 'Lack of information', 'Time constraints', 'Distance to venue',   \n",
    "                         'Lack of transportation', 'Physical accessibility issues', 'Cultural or language barriers',   \n",
    "                         'Lack of interest in available activities', 'None of the above'],  \n",
    "        'Frequency': [13, 4, 9, 5, 11, 8, 12, 5, 13]}  \n",
    "df2 = pd.DataFrame(data)  "
   ]
  },
  {
   "cell_type": "code",
   "execution_count": 119,
   "metadata": {},
   "outputs": [],
   "source": [
    "# Create a contingency table for the challenges and participation frequency  \n",
    "contingency_table = pd.crosstab(df2['Challenges'], df2['Frequency'])  "
   ]
  },
  {
   "cell_type": "code",
   "execution_count": 120,
   "metadata": {},
   "outputs": [],
   "source": [
    "# Perform the chi-square test  \n",
    "chi2, p, dof, expected = chi2_contingency(contingency_table) "
   ]
  },
  {
   "cell_type": "code",
   "execution_count": 121,
   "metadata": {},
   "outputs": [
    {
     "name": "stdout",
     "output_type": "stream",
     "text": [
      "Chi-square statistic: 54.00000000000001\n",
      "P-value: 0.25591260154408935\n"
     ]
    }
   ],
   "source": [
    "# Print the results  \n",
    "print(f'Chi-square statistic: {chi2}')  \n",
    "print(f'P-value: {p}')  "
   ]
  },
  {
   "cell_type": "code",
   "execution_count": 122,
   "metadata": {},
   "outputs": [],
   "source": [
    "# Define the mapping from challenges to their corresponding codes  \n",
    "Motivation_mapping = {  \n",
    "    'Cost of participation': 1,  \n",
    "    'Lack of information': 2,  \n",
    "    'Time constraints': 3,  \n",
    "    'Distance to venue': 4,  \n",
    "    'Lack of transportation': 5,  \n",
    "    'Physical accessibility issues': 6,  \n",
    "    'Cultural or language barriers': 7,  \n",
    "    'Lack of interest in available activities': 8,  \n",
    "    'None of the above': 9  \n",
    "}"
   ]
  },
  {
   "cell_type": "code",
   "execution_count": 123,
   "metadata": {},
   "outputs": [],
   "source": [
    "# Sample responses (as given in your message)  \n",
    "responses = [  \n",
    "    'Lack of information;Time constraints;',  \n",
    "    'Cost of participation;Lack of information;',  \n",
    "    'Cost of participation;',  \n",
    "    'Time constraints;',  \n",
    "    'Lack of information;',  \n",
    "    'None of the above;',  \n",
    "    'Lack of information;',  \n",
    "    'Time constraints;',  \n",
    "    'None of the above;',  \n",
    "    'Lack of information;Time constraints;',  \n",
    "    'Cost of participation;Lack of transportation;',  \n",
    "    'None of the above;',  \n",
    "    'Time constraints;',  \n",
    "    'Cost of participation;Distance to venue;Lack of interest in available activities;',  \n",
    "    'Distance to venue;',  \n",
    "    'Lack of information;',  \n",
    "    'Lack of information;',  \n",
    "    'Cost of participation;Time constraints;',  \n",
    "    'None of the above;',  \n",
    "    'Lack of information;Time constraints;',  \n",
    "    'Lack of information;Lack of interest in available activities;',  \n",
    "    'Cost of participation;Cultural or language barriers;Time constraints;',  \n",
    "    'Distance to venue;',  \n",
    "    'None of the above;',  \n",
    "    'Lack of information;Time constraints;',  \n",
    "    'Lack of interest in available activities;',  \n",
    "    'Lack of interest in available activities;Time constraints;',  \n",
    "    'Lack of interest in available activities;Lack of information;',  \n",
    "    'Time constraints;Lack of information;Lack of interest in available activities;',  \n",
    "    'Lack of interest in available activities;',  \n",
    "    'Lack of transportation;Lack of information;Time constraints;',  \n",
    "    'None of the above;',  \n",
    "    'Time constraints;',  \n",
    "    'Cost of participation;Distance to venue;Lack of interest in available activities;',  \n",
    "    'Distance to venue;',  \n",
    "    'Lack of information;',  \n",
    "    'Lack of information;',  \n",
    "    'Cost of participation;Time constraints;',  \n",
    "    'Distance to venue;',  \n",
    "    'None of the above;',  \n",
    "    'Lack of information;Time constraints;',  \n",
    "    'Lack of interest in available activities;',  \n",
    "    'Lack of interest in available activities;Time constraints;',  \n",
    "    'Cost of participation;',  \n",
    "    'Time constraints;',  \n",
    "    'Lack of interest in available activities;',  \n",
    "    'None of the above;',  \n",
    "    'Cost of participation;',  \n",
    "    'Lack of information;',  \n",
    "    'Lack of information;',  \n",
    "    'Lack of transportation;Lack of information;Time constraints;',  \n",
    "    'Lack of interest in available activities;Lack of information;',  \n",
    "    'Lack of interest in available activities;',  \n",
    "    'Lack of interest in available activities;Lack of information;',  \n",
    "    'Cost of participation;Time constraints;',  \n",
    "    'Cost of participation;Time constraints;'  \n",
    "]  "
   ]
  },
  {
   "cell_type": "code",
   "execution_count": 124,
   "metadata": {},
   "outputs": [],
   "source": [
    "# Initialize a list to collect encoded responses  \n",
    "encoded_responses = []  "
   ]
  },
  {
   "cell_type": "code",
   "execution_count": 127,
   "metadata": {},
   "outputs": [],
   "source": [
    "# Process each response  \n",
    "for response in responses:  \n",
    "    # Split the response by semicolon and strip any whitespace  \n",
    "    selections = [r.strip() for r in response.split(';') if r.strip()]  \n",
    "    # Encode the selections based on the challenge mapping  \n",
    "    encoded_response = [Motivation_mapping[selection] for selection in selections if selection in Motivation_mapping]  \n",
    "    # Append the encoded response to the list  \n",
    "    encoded_responses.append(encoded_response) "
   ]
  },
  {
   "cell_type": "code",
   "execution_count": 128,
   "metadata": {},
   "outputs": [],
   "source": [
    "# Create a DataFrame  \n",
    "# Each row represents a response  \n",
    "# The maximum number of challenges in a response can be normalized to the maximum length of encoded responses  \n",
    "max_length = max(len(res) for res in encoded_responses)"
   ]
  },
  {
   "cell_type": "code",
   "execution_count": 130,
   "metadata": {},
   "outputs": [],
   "source": [
    "# Create a DataFrame with default values of 0  \n",
    "df4 = pd.DataFrame(0, index=range(len(encoded_responses)), columns=range(1, 10)) "
   ]
  },
  {
   "cell_type": "code",
   "execution_count": 131,
   "metadata": {},
   "outputs": [],
   "source": [
    "# Populate the DataFrame with encoded responses  \n",
    "for index, response in enumerate(encoded_responses):  \n",
    "    for challenge in response:  \n",
    "        df.at[index, challenge] = 1  # mark presence of a challenge with 1  "
   ]
  },
  {
   "cell_type": "code",
   "execution_count": 132,
   "metadata": {},
   "outputs": [
    {
     "name": "stdout",
     "output_type": "stream",
     "text": [
      "    1  2  3  4  5  6  7  8  9\n",
      "0   0  0  0  0  0  0  0  0  0\n",
      "1   0  0  0  0  0  0  0  0  0\n",
      "2   0  0  0  0  0  0  0  0  0\n",
      "3   0  0  0  0  0  0  0  0  0\n",
      "4   0  0  0  0  0  0  0  0  0\n",
      "5   0  0  0  0  0  0  0  0  0\n",
      "6   0  0  0  0  0  0  0  0  0\n",
      "7   0  0  0  0  0  0  0  0  0\n",
      "8   0  0  0  0  0  0  0  0  0\n",
      "9   0  0  0  0  0  0  0  0  0\n",
      "10  0  0  0  0  0  0  0  0  0\n",
      "11  0  0  0  0  0  0  0  0  0\n",
      "12  0  0  0  0  0  0  0  0  0\n",
      "13  0  0  0  0  0  0  0  0  0\n",
      "14  0  0  0  0  0  0  0  0  0\n",
      "15  0  0  0  0  0  0  0  0  0\n",
      "16  0  0  0  0  0  0  0  0  0\n",
      "17  0  0  0  0  0  0  0  0  0\n",
      "18  0  0  0  0  0  0  0  0  0\n",
      "19  0  0  0  0  0  0  0  0  0\n",
      "20  0  0  0  0  0  0  0  0  0\n",
      "21  0  0  0  0  0  0  0  0  0\n",
      "22  0  0  0  0  0  0  0  0  0\n",
      "23  0  0  0  0  0  0  0  0  0\n",
      "24  0  0  0  0  0  0  0  0  0\n",
      "25  0  0  0  0  0  0  0  0  0\n",
      "26  0  0  0  0  0  0  0  0  0\n",
      "27  0  0  0  0  0  0  0  0  0\n",
      "28  0  0  0  0  0  0  0  0  0\n",
      "29  0  0  0  0  0  0  0  0  0\n",
      "30  0  0  0  0  0  0  0  0  0\n",
      "31  0  0  0  0  0  0  0  0  0\n",
      "32  0  0  0  0  0  0  0  0  0\n",
      "33  0  0  0  0  0  0  0  0  0\n",
      "34  0  0  0  0  0  0  0  0  0\n",
      "35  0  0  0  0  0  0  0  0  0\n",
      "36  0  0  0  0  0  0  0  0  0\n",
      "37  0  0  0  0  0  0  0  0  0\n",
      "38  0  0  0  0  0  0  0  0  0\n",
      "39  0  0  0  0  0  0  0  0  0\n",
      "40  0  0  0  0  0  0  0  0  0\n",
      "41  0  0  0  0  0  0  0  0  0\n",
      "42  0  0  0  0  0  0  0  0  0\n",
      "43  0  0  0  0  0  0  0  0  0\n",
      "44  0  0  0  0  0  0  0  0  0\n",
      "45  0  0  0  0  0  0  0  0  0\n",
      "46  0  0  0  0  0  0  0  0  0\n",
      "47  0  0  0  0  0  0  0  0  0\n",
      "48  0  0  0  0  0  0  0  0  0\n",
      "49  0  0  0  0  0  0  0  0  0\n",
      "50  0  0  0  0  0  0  0  0  0\n",
      "51  0  0  0  0  0  0  0  0  0\n",
      "52  0  0  0  0  0  0  0  0  0\n",
      "53  0  0  0  0  0  0  0  0  0\n",
      "54  0  0  0  0  0  0  0  0  0\n",
      "55  0  0  0  0  0  0  0  0  0\n"
     ]
    }
   ],
   "source": [
    "# Print the DataFrame  \n",
    "print(df4)"
   ]
  },
  {
   "cell_type": "code",
   "execution_count": 135,
   "metadata": {},
   "outputs": [],
   "source": [
    "# Initialize a list to collect binary responses  \n",
    "binary_responses = []  "
   ]
  },
  {
   "cell_type": "code",
   "execution_count": 136,
   "metadata": {},
   "outputs": [],
   "source": [
    "# Process each response to create a binary array indicating challenges  \n",
    "for response in responses:  \n",
    "    # Create a binary list for each challenge - initialize with 0s  \n",
    "    binary_response = [0] * len(Motivation_mapping)  \n",
    "    # Split the response by semicolon and strip any whitespace  \n",
    "    selections = [r.strip() for r in response.split(';') if r.strip()]  \n",
    "    # Set to 1 for each selected challenge  \n",
    "    for selection in selections:  \n",
    "        if selection in Motivation_mapping:  \n",
    "            binary_response[Motivation_mapping[selection] - 1] = 1  \n",
    "    # Append the binary list to responses  \n",
    "    binary_responses.append(binary_response)  "
   ]
  },
  {
   "cell_type": "code",
   "execution_count": 138,
   "metadata": {},
   "outputs": [],
   "source": [
    "# Create a DataFrame from the binary responses  \n",
    "df5 = pd.DataFrame(binary_responses, columns=Motivation_mapping.keys())  "
   ]
  },
  {
   "cell_type": "code",
   "execution_count": 139,
   "metadata": {},
   "outputs": [],
   "source": [
    "# Calculate the correlation matrix  \n",
    "correlation_matrix = df5.corr()  "
   ]
  },
  {
   "cell_type": "code",
   "execution_count": 140,
   "metadata": {},
   "outputs": [
    {
     "name": "stdout",
     "output_type": "stream",
     "text": [
      "                                          Cost of participation  \\\n",
      "Cost of participation                                  1.000000   \n",
      "Lack of information                                   -0.314627   \n",
      "Time constraints                                       0.064875   \n",
      "Distance to venue                                      0.100504   \n",
      "Lack of transportation                                 0.069026   \n",
      "Physical accessibility issues                               NaN   \n",
      "Cultural or language barriers                          0.258199   \n",
      "Lack of interest in available activities              -0.100504   \n",
      "None of the above                                     -0.213201   \n",
      "\n",
      "                                          Lack of information  \\\n",
      "Cost of participation                               -0.314627   \n",
      "Lack of information                                  1.000000   \n",
      "Time constraints                                     0.038490   \n",
      "Distance to venue                                   -0.268328   \n",
      "Lack of transportation                               0.143336   \n",
      "Physical accessibility issues                             NaN   \n",
      "Cultural or language barriers                       -0.104447   \n",
      "Lack of interest in available activities            -0.021296   \n",
      "None of the above                                   -0.316228   \n",
      "\n",
      "                                          Time constraints  Distance to venue  \\\n",
      "Cost of participation                             0.064875           0.100504   \n",
      "Lack of information                               0.038490          -0.268328   \n",
      "Time constraints                                  1.000000          -0.258199   \n",
      "Distance to venue                                -0.258199           1.000000   \n",
      "Lack of transportation                            0.153687          -0.082416   \n",
      "Physical accessibility issues                          NaN                NaN   \n",
      "Cultural or language barriers                     0.180907          -0.046710   \n",
      "Lack of interest in available activities         -0.172133           0.066667   \n",
      "None of the above                                -0.304290          -0.141421   \n",
      "\n",
      "                                          Lack of transportation  \\\n",
      "Cost of participation                                   0.069026   \n",
      "Lack of information                                     0.143336   \n",
      "Time constraints                                        0.153687   \n",
      "Distance to venue                                      -0.082416   \n",
      "Lack of transportation                                  1.000000   \n",
      "Physical accessibility issues                                NaN   \n",
      "Cultural or language barriers                          -0.032081   \n",
      "Lack of interest in available activities               -0.137361   \n",
      "None of the above                                      -0.097129   \n",
      "\n",
      "                                          Physical accessibility issues  \\\n",
      "Cost of participation                                               NaN   \n",
      "Lack of information                                                 NaN   \n",
      "Time constraints                                                    NaN   \n",
      "Distance to venue                                                   NaN   \n",
      "Lack of transportation                                              NaN   \n",
      "Physical accessibility issues                                       NaN   \n",
      "Cultural or language barriers                                       NaN   \n",
      "Lack of interest in available activities                            NaN   \n",
      "None of the above                                                   NaN   \n",
      "\n",
      "                                          Cultural or language barriers  \\\n",
      "Cost of participation                                          0.258199   \n",
      "Lack of information                                           -0.104447   \n",
      "Time constraints                                               0.180907   \n",
      "Distance to venue                                             -0.046710   \n",
      "Lack of transportation                                        -0.032081   \n",
      "Physical accessibility issues                                       NaN   \n",
      "Cultural or language barriers                                  1.000000   \n",
      "Lack of interest in available activities                      -0.077850   \n",
      "None of the above                                             -0.055048   \n",
      "\n",
      "                                          Lack of interest in available activities  \\\n",
      "Cost of participation                                                    -0.100504   \n",
      "Lack of information                                                      -0.021296   \n",
      "Time constraints                                                         -0.172133   \n",
      "Distance to venue                                                         0.066667   \n",
      "Lack of transportation                                                   -0.137361   \n",
      "Physical accessibility issues                                                  NaN   \n",
      "Cultural or language barriers                                            -0.077850   \n",
      "Lack of interest in available activities                                  1.000000   \n",
      "None of the above                                                        -0.235702   \n",
      "\n",
      "                                          None of the above  \n",
      "Cost of participation                             -0.213201  \n",
      "Lack of information                               -0.316228  \n",
      "Time constraints                                  -0.304290  \n",
      "Distance to venue                                 -0.141421  \n",
      "Lack of transportation                            -0.097129  \n",
      "Physical accessibility issues                           NaN  \n",
      "Cultural or language barriers                     -0.055048  \n",
      "Lack of interest in available activities          -0.235702  \n",
      "None of the above                                  1.000000  \n"
     ]
    }
   ],
   "source": [
    "# Display the correlation matrix  \n",
    "print(correlation_matrix)  "
   ]
  },
  {
   "cell_type": "code",
   "execution_count": 152,
   "metadata": {},
   "outputs": [
    {
     "data": {
      "text/plain": [
       "<Figure size 1800x1200 with 0 Axes>"
      ]
     },
     "execution_count": 152,
     "metadata": {},
     "output_type": "execute_result"
    },
    {
     "data": {
      "text/plain": [
       "<Figure size 1800x1200 with 0 Axes>"
      ]
     },
     "metadata": {},
     "output_type": "display_data"
    }
   ],
   "source": [
    "# Set up the matplotlib figure  \n",
    "plt.figure(figsize=(18, 12)) "
   ]
  },
  {
   "cell_type": "code",
   "execution_count": 153,
   "metadata": {},
   "outputs": [
    {
     "data": {
      "text/plain": [
       "<Axes: >"
      ]
     },
     "execution_count": 153,
     "metadata": {},
     "output_type": "execute_result"
    },
    {
     "data": {
      "image/png": "[encoded data removed]",
      "text/plain": [
       "<Figure size 640x480 with 2 Axes>"
      ]
     },
     "metadata": {},
     "output_type": "display_data"
    }
   ],
   "source": [
    "# Draw the heatmap with the mask and correct aspect ratio  \n",
    "sns.heatmap(correlation_matrix, annot=True, fmt=\".2f\", cmap='coolwarm', square=True,   \n",
    "            cbar_kws={\"shrink\": .8}, mask=correlation_matrix.isnull())  "
   ]
  },
  {
   "cell_type": "code",
   "execution_count": 154,
   "metadata": {},
   "outputs": [
    {
     "data": {
      "image/png": "[encoded data removed]",
      "text/plain": [
       "<Figure size 1000x800 with 2 Axes>"
      ]
     },
     "metadata": {},
     "output_type": "display_data"
    }
   ],
   "source": [
    "# Optional: Create a heatmap to visualize the correlation matrix again if desired  \n",
    "plt.figure(figsize=(10, 8))  \n",
    "sns.heatmap(correlation_matrix, annot=True, fmt=\".2f\", cmap='coolwarm', square=True,   \n",
    "            cbar_kws={\"shrink\": .8}, mask=correlation_matrix.isnull())  \n",
    "plt.title('Correlation Heatmap of Challenges', fontsize=16)  \n",
    "plt.show()  "
   ]
  },
  {
   "cell_type": "code",
   "execution_count": 155,
   "metadata": {},
   "outputs": [],
   "source": [
    "# Convert correlation matrix to a single table  \n",
    "correlation_table = correlation_matrix.stack().reset_index()  \n",
    "correlation_table.columns = ['Challenge 1', 'Challenge 2', 'Correlation']  "
   ]
  },
  {
   "cell_type": "code",
   "execution_count": 156,
   "metadata": {},
   "outputs": [],
   "source": [
    "# Drop duplicate pairs if you only want unique relationships (e.g. only keep [A, B] and not [B, A])  \n",
    "correlation_table = correlation_table[correlation_table['Challenge 1'] < correlation_table['Challenge 2']]  "
   ]
  },
  {
   "cell_type": "code",
   "execution_count": 157,
   "metadata": {},
   "outputs": [
    {
     "name": "stdout",
     "output_type": "stream",
     "text": [
      "                                 Challenge 1  \\\n",
      "1                      Cost of participation   \n",
      "2                      Cost of participation   \n",
      "3                      Cost of participation   \n",
      "4                      Cost of participation   \n",
      "5                      Cost of participation   \n",
      "6                      Cost of participation   \n",
      "7                      Cost of participation   \n",
      "10                       Lack of information   \n",
      "12                       Lack of information   \n",
      "14                       Lack of information   \n",
      "15                       Lack of information   \n",
      "25                         Distance to venue   \n",
      "26                         Distance to venue   \n",
      "28                         Distance to venue   \n",
      "30                         Distance to venue   \n",
      "31                         Distance to venue   \n",
      "34                    Lack of transportation   \n",
      "39                    Lack of transportation   \n",
      "41             Cultural or language barriers   \n",
      "42             Cultural or language barriers   \n",
      "43             Cultural or language barriers   \n",
      "44             Cultural or language barriers   \n",
      "46             Cultural or language barriers   \n",
      "47             Cultural or language barriers   \n",
      "50  Lack of interest in available activities   \n",
      "52  Lack of interest in available activities   \n",
      "55  Lack of interest in available activities   \n",
      "58                         None of the above   \n",
      "\n",
      "                                 Challenge 2  Correlation  \n",
      "1                        Lack of information    -0.314627  \n",
      "2                           Time constraints     0.064875  \n",
      "3                          Distance to venue     0.100504  \n",
      "4                     Lack of transportation     0.069026  \n",
      "5              Cultural or language barriers     0.258199  \n",
      "6   Lack of interest in available activities    -0.100504  \n",
      "7                          None of the above    -0.213201  \n",
      "10                          Time constraints     0.038490  \n",
      "12                    Lack of transportation     0.143336  \n",
      "14  Lack of interest in available activities    -0.021296  \n",
      "15                         None of the above    -0.316228  \n",
      "25                       Lack of information    -0.268328  \n",
      "26                          Time constraints    -0.258199  \n",
      "28                    Lack of transportation    -0.082416  \n",
      "30  Lack of interest in available activities     0.066667  \n",
      "31                         None of the above    -0.141421  \n",
      "34                          Time constraints     0.153687  \n",
      "39                         None of the above    -0.097129  \n",
      "41                       Lack of information    -0.104447  \n",
      "42                          Time constraints     0.180907  \n",
      "43                         Distance to venue    -0.046710  \n",
      "44                    Lack of transportation    -0.032081  \n",
      "46  Lack of interest in available activities    -0.077850  \n",
      "47                         None of the above    -0.055048  \n",
      "50                          Time constraints    -0.172133  \n",
      "52                    Lack of transportation    -0.137361  \n",
      "55                         None of the above    -0.235702  \n",
      "58                          Time constraints    -0.304290  \n"
     ]
    }
   ],
   "source": [
    "# Display the correlation table  \n",
    "print(correlation_table)  "
   ]
  },
  {
   "cell_type": "code",
   "execution_count": 158,
   "metadata": {},
   "outputs": [],
   "source": [
    "from scipy.stats import chi2_contingency "
   ]
  },
  {
   "cell_type": "code",
   "execution_count": 171,
   "metadata": {},
   "outputs": [],
   "source": [
    "# Step 1: Create the DataFrame  \n",
    "data6 = {  \n",
    "    'Age': [4, 2, 2, 4, 6, 3, 3, 6, 3, 5, 3, 1, 2, 3, 3, 4, 4, 2, 2, 3, 4, 2, 3, 2, 1, 2, 4, 1, 4, 3, 3, 1, 2, 3, 3, 1, 4, 2, 2, 3, 4, 4, 2, 2, 4, 6, 3, 3, 6, 3, 6, 3, 5, 1, 2, 3, 3, 4, 4, 2, 3, 2, 1, 2, 4, 2, 4, 3, 1, 2, 4, 4, 3, 1, 2, 1, 1, 7, 7],\n",
    "    'Gender': [0, 1, 0, 0, 1, 0, 1, 0, 1, 0, 1, 1, 0, 0, 1, 0, 1, 0, 1, 1, 1, 1, 0, 0, 1, 1, 1, 1, 1, 0, 1, 1, 0, 0, 1, 0, 1, 0, 1, 0, 1, 0, 0, 1, 0, 1, 0, 1, 0, 1, 0, 0, 1, 1, 0, 0, 1, 0, 1, 0, 0, 0, 1, 1, 0, 0, 1, 0, 1, 1, 0, 0, 1, 0, 0, 1, 1, 0, 0],  \n",
    "    'Residence': [1, 1, 2, 1, 1, 1, 1, 1, 1, 1, 1, 1, 1, 1, 1, 2, 2, 2, 1, 1, 1, 1, 1, 1, 1, 1, 1, 1, 1, 1, 2, 1, 1, 1, 1, 1, 2, 2, 1, 1, 1, 1, 1, 2, 1, 1, 1, 1, 1, 1, 1, 1, 1, 1, 1, 1, 1, 2, 2, 2, 1, 1, 1, 1, 1, 2, 1, 1, 1, 2, 2, 2, 2, 2, 1, 1, 1, 1, 2]  \n",
    "}  "
   ]
  },
  {
   "cell_type": "code",
   "execution_count": 172,
   "metadata": {},
   "outputs": [],
   "source": [
    "# Create DataFrame  \n",
    "df6 = pd.DataFrame(data6) "
   ]
  },
  {
   "cell_type": "code",
   "execution_count": 173,
   "metadata": {},
   "outputs": [
    {
     "data": {
      "text/html": [
       "<div>\n",
       "<style scoped>\n",
       "    .dataframe tbody tr th:only-of-type {\n",
       "        vertical-align: middle;\n",
       "    }\n",
       "\n",
       "    .dataframe tbody tr th {\n",
       "        vertical-align: top;\n",
       "    }\n",
       "\n",
       "    .dataframe thead th {\n",
       "        text-align: right;\n",
       "    }\n",
       "</style>\n",
       "<table border=\"1\" class=\"dataframe\">\n",
       "  <thead>\n",
       "    <tr style=\"text-align: right;\">\n",
       "      <th></th>\n",
       "      <th>Age</th>\n",
       "      <th>Gender</th>\n",
       "      <th>Residence</th>\n",
       "    </tr>\n",
       "  </thead>\n",
       "  <tbody>\n",
       "    <tr>\n",
       "      <th>0</th>\n",
       "      <td>4</td>\n",
       "      <td>0</td>\n",
       "      <td>1</td>\n",
       "    </tr>\n",
       "    <tr>\n",
       "      <th>1</th>\n",
       "      <td>2</td>\n",
       "      <td>1</td>\n",
       "      <td>1</td>\n",
       "    </tr>\n",
       "    <tr>\n",
       "      <th>2</th>\n",
       "      <td>2</td>\n",
       "      <td>0</td>\n",
       "      <td>2</td>\n",
       "    </tr>\n",
       "    <tr>\n",
       "      <th>3</th>\n",
       "      <td>4</td>\n",
       "      <td>0</td>\n",
       "      <td>1</td>\n",
       "    </tr>\n",
       "    <tr>\n",
       "      <th>4</th>\n",
       "      <td>6</td>\n",
       "      <td>1</td>\n",
       "      <td>1</td>\n",
       "    </tr>\n",
       "    <tr>\n",
       "      <th>...</th>\n",
       "      <td>...</td>\n",
       "      <td>...</td>\n",
       "      <td>...</td>\n",
       "    </tr>\n",
       "    <tr>\n",
       "      <th>74</th>\n",
       "      <td>2</td>\n",
       "      <td>0</td>\n",
       "      <td>1</td>\n",
       "    </tr>\n",
       "    <tr>\n",
       "      <th>75</th>\n",
       "      <td>1</td>\n",
       "      <td>1</td>\n",
       "      <td>1</td>\n",
       "    </tr>\n",
       "    <tr>\n",
       "      <th>76</th>\n",
       "      <td>1</td>\n",
       "      <td>1</td>\n",
       "      <td>1</td>\n",
       "    </tr>\n",
       "    <tr>\n",
       "      <th>77</th>\n",
       "      <td>7</td>\n",
       "      <td>0</td>\n",
       "      <td>1</td>\n",
       "    </tr>\n",
       "    <tr>\n",
       "      <th>78</th>\n",
       "      <td>7</td>\n",
       "      <td>0</td>\n",
       "      <td>2</td>\n",
       "    </tr>\n",
       "  </tbody>\n",
       "</table>\n",
       "<p>79 rows × 3 columns</p>\n",
       "</div>"
      ],
      "text/plain": [
       "    Age  Gender  Residence\n",
       "0     4       0          1\n",
       "1     2       1          1\n",
       "2     2       0          2\n",
       "3     4       0          1\n",
       "4     6       1          1\n",
       "..  ...     ...        ...\n",
       "74    2       0          1\n",
       "75    1       1          1\n",
       "76    1       1          1\n",
       "77    7       0          1\n",
       "78    7       0          2\n",
       "\n",
       "[79 rows x 3 columns]"
      ]
     },
     "execution_count": 173,
     "metadata": {},
     "output_type": "execute_result"
    }
   ],
   "source": [
    "df6"
   ]
  },
  {
   "cell_type": "code",
   "execution_count": 174,
   "metadata": {},
   "outputs": [
    {
     "name": "stdout",
     "output_type": "stream",
     "text": [
      "Descriptive Statistics:\n",
      "             Age     Gender  Residence\n",
      "count  79.000000  79.000000  79.000000\n",
      "mean    3.025316   0.493671   1.227848\n",
      "std     1.458614   0.503155   0.422124\n",
      "min     1.000000   0.000000   1.000000\n",
      "25%     2.000000   0.000000   1.000000\n",
      "50%     3.000000   0.000000   1.000000\n",
      "75%     4.000000   1.000000   1.000000\n",
      "max     7.000000   1.000000   2.000000\n"
     ]
    }
   ],
   "source": [
    "# Descriptive Statistics  \n",
    "print(\"Descriptive Statistics:\")  \n",
    "print(df6.describe())  "
   ]
  },
  {
   "cell_type": "code",
   "execution_count": 175,
   "metadata": {},
   "outputs": [],
   "source": [
    "# Step 5: Chi-Square Test for Age and Residence  \n",
    "contingency_table = pd.crosstab(df6['Age'], df6['Residence'])  \n",
    "chi2, p, dof, expected = chi2_contingency(contingency_table)  "
   ]
  },
  {
   "cell_type": "code",
   "execution_count": 176,
   "metadata": {},
   "outputs": [
    {
     "name": "stdout",
     "output_type": "stream",
     "text": [
      "\n",
      "Chi-Square Test Results:\n",
      "Chi2 Statistic: 11.389622600157798, p-value: 0.07705568570307389, Degrees of Freedom: 6\n"
     ]
    }
   ],
   "source": [
    "print(\"\\nChi-Square Test Results:\")  \n",
    "print(f\"Chi2 Statistic: {chi2}, p-value: {p}, Degrees of Freedom: {dof}\")  \n"
   ]
  },
  {
   "cell_type": "code",
   "execution_count": 177,
   "metadata": {},
   "outputs": [
    {
     "name": "stdout",
     "output_type": "stream",
     "text": [
      "Fail to reject the null hypothesis: No significant relationship found.\n"
     ]
    }
   ],
   "source": [
    "# Step 6: Interpretation of p-value  \n",
    "alpha = 0.05  \n",
    "if p < alpha:  \n",
    "    print(\"Reject the null hypothesis: There is a significant relationship between age and residence type.\")  \n",
    "else:  \n",
    "    print(\"Fail to reject the null hypothesis: No significant relationship found.\")  \n"
   ]
  },
  {
   "cell_type": "code",
   "execution_count": 181,
   "metadata": {},
   "outputs": [
    {
     "data": {
      "image/png": "[encoded data removed]",
      "text/plain": [
       "<Figure size 1000x600 with 1 Axes>"
      ]
     },
     "metadata": {},
     "output_type": "display_data"
    }
   ],
   "source": [
    "# Step 7: Visualization  \n",
    "plt.figure(figsize=(10, 6))  \n",
    "sns.countplot(data=df6, x='Age', hue='Residence')  \n",
    "plt.title('Distribution of Residence Type by Age')  \n",
    "plt.xlabel('Age')  \n",
    "plt.ylabel('Count')  \n",
    "plt.legend(title='Residence Type', labels=['White/British', 'Black/African/Carribbean/Black British'])  \n",
    "plt.show()  "
   ]
  }
 ],
 "metadata": {
  "kernelspec": {
   "display_name": ".venv",
   "language": "python",
   "name": "python3"
  },
  "language_info": {
   "codemirror_mode": {
    "name": "ipython",
    "version": 3
   },
   "file_extension": ".py",
   "mimetype": "text/x-python",
   "name": "python",
   "nbconvert_exporter": "python",
   "pygments_lexer": "ipython3",
   "version": "3.12.5"
  }
 },
 "nbformat": 4,
 "nbformat_minor": 2
}
